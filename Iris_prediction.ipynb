{
 "cells": [
  {
   "cell_type": "code",
   "execution_count": 94,
   "id": "aa2d6799-19a3-4dd8-b36e-0f2b476b1969",
   "metadata": {
    "scrolled": true
   },
   "outputs": [],
   "source": [
    "import json, re\n",
    "\n",
    "with open('algoparams_from_ui.json.rtf', 'r') as file:\n",
    "    data = file.read()\n",
    "\n",
    "start = data.find(\"\\{\")\n",
    "end = data.rfind(\"\\}\")\n",
    "json_data = data[start:end+2]\n",
    "\n",
    "json_data = json_data.replace(\"\\par\", \"\").replace(\"\\{\",\"{\").replace(\"\\}\", \"}\")\n",
    "json_data = json.loads(json_data)\n",
    "\n",
    "#print(json_data)"
   ]
  },
  {
   "cell_type": "code",
   "execution_count": 95,
   "id": "8b43686d-dddc-4826-81e5-106439f72231",
   "metadata": {},
   "outputs": [],
   "source": [
    "json_data = json_data['design_state_data']"
   ]
  },
  {
   "cell_type": "code",
   "execution_count": 96,
   "id": "d26b13b9-f688-445d-841a-91f1dcf1c51b",
   "metadata": {},
   "outputs": [],
   "source": [
    "models = {'Regression' : ['RandomForestRegressor','GBTRegressor', 'LinearRegression', 'LogisticRegression','RidgeRegression', 'LassoRegression','ElasticNetRegression', 'DecisionTreeRegressor','SVM','SGD','neural_network'],\n",
    "         'Classification' : ['RandomForestClassifier', 'GBTClassifier', 'xg_boost', 'DecisionTreeClassifier', 'KNN','neural_network']}"
   ]
  },
  {
   "cell_type": "code",
   "execution_count": 97,
   "id": "6b6e8261-fb28-447a-974f-69762f80fa99",
   "metadata": {},
   "outputs": [],
   "source": [
    "import numpy as np\n",
    "\n",
    "from sklearn.pipeline import Pipeline\n",
    "from sklearn.impute import SimpleImputer\n",
    "from sklearn.metrics import mean_squared_error, accuracy_score\n",
    "from sklearn.feature_extraction.text import HashingVectorizer\n",
    "from sklearn.decomposition import PCA\n",
    "from sklearn.model_selection import KFold, train_test_split, GridSearchCV \n",
    "from sklearn.tree import DecisionTreeClassifier, DecisionTreeRegressor\n",
    "from sklearn.ensemble import RandomForestClassifier, RandomForestRegressor\n",
    "from sklearn.linear_model import LinearRegression, LogisticRegression, Ridge, Lasso, ElasticNet, SGDClassifier, SGDRegressor\n",
    "from sklearn.svm import SVR, SVC\n",
    "from sklearn.neighbors import KNeighborsRegressor, KNeighborsClassifier\n",
    "from sklearn.neural_network import MLPClassifier, MLPRegressor"
   ]
  },
  {
   "cell_type": "code",
   "execution_count": 98,
   "id": "3be0a8b5-0d23-470e-ae85-4185d2295933",
   "metadata": {},
   "outputs": [
    {
     "data": {
      "text/html": [
       "<div>\n",
       "<style scoped>\n",
       "    .dataframe tbody tr th:only-of-type {\n",
       "        vertical-align: middle;\n",
       "    }\n",
       "\n",
       "    .dataframe tbody tr th {\n",
       "        vertical-align: top;\n",
       "    }\n",
       "\n",
       "    .dataframe thead th {\n",
       "        text-align: right;\n",
       "    }\n",
       "</style>\n",
       "<table border=\"1\" class=\"dataframe\">\n",
       "  <thead>\n",
       "    <tr style=\"text-align: right;\">\n",
       "      <th></th>\n",
       "      <th>sepal_length</th>\n",
       "      <th>sepal_width</th>\n",
       "      <th>petal_length</th>\n",
       "      <th>petal_width</th>\n",
       "      <th>species</th>\n",
       "    </tr>\n",
       "  </thead>\n",
       "  <tbody>\n",
       "    <tr>\n",
       "      <th>0</th>\n",
       "      <td>5.1</td>\n",
       "      <td>3.5</td>\n",
       "      <td>1.4</td>\n",
       "      <td>0.2</td>\n",
       "      <td>Iris-setosa</td>\n",
       "    </tr>\n",
       "    <tr>\n",
       "      <th>1</th>\n",
       "      <td>4.9</td>\n",
       "      <td>3.0</td>\n",
       "      <td>1.4</td>\n",
       "      <td>0.2</td>\n",
       "      <td>Iris-setosa</td>\n",
       "    </tr>\n",
       "    <tr>\n",
       "      <th>2</th>\n",
       "      <td>4.7</td>\n",
       "      <td>3.2</td>\n",
       "      <td>1.3</td>\n",
       "      <td>0.2</td>\n",
       "      <td>Iris-setosa</td>\n",
       "    </tr>\n",
       "    <tr>\n",
       "      <th>3</th>\n",
       "      <td>4.6</td>\n",
       "      <td>3.1</td>\n",
       "      <td>1.5</td>\n",
       "      <td>0.2</td>\n",
       "      <td>Iris-setosa</td>\n",
       "    </tr>\n",
       "    <tr>\n",
       "      <th>4</th>\n",
       "      <td>5.0</td>\n",
       "      <td>3.6</td>\n",
       "      <td>1.4</td>\n",
       "      <td>0.2</td>\n",
       "      <td>Iris-setosa</td>\n",
       "    </tr>\n",
       "    <tr>\n",
       "      <th>...</th>\n",
       "      <td>...</td>\n",
       "      <td>...</td>\n",
       "      <td>...</td>\n",
       "      <td>...</td>\n",
       "      <td>...</td>\n",
       "    </tr>\n",
       "    <tr>\n",
       "      <th>145</th>\n",
       "      <td>6.7</td>\n",
       "      <td>3.0</td>\n",
       "      <td>5.2</td>\n",
       "      <td>2.3</td>\n",
       "      <td>Iris-virginica</td>\n",
       "    </tr>\n",
       "    <tr>\n",
       "      <th>146</th>\n",
       "      <td>6.3</td>\n",
       "      <td>2.5</td>\n",
       "      <td>5.0</td>\n",
       "      <td>1.9</td>\n",
       "      <td>Iris-virginica</td>\n",
       "    </tr>\n",
       "    <tr>\n",
       "      <th>147</th>\n",
       "      <td>6.5</td>\n",
       "      <td>3.0</td>\n",
       "      <td>5.2</td>\n",
       "      <td>2.0</td>\n",
       "      <td>Iris-virginica</td>\n",
       "    </tr>\n",
       "    <tr>\n",
       "      <th>148</th>\n",
       "      <td>6.2</td>\n",
       "      <td>3.4</td>\n",
       "      <td>5.4</td>\n",
       "      <td>2.3</td>\n",
       "      <td>Iris-virginica</td>\n",
       "    </tr>\n",
       "    <tr>\n",
       "      <th>149</th>\n",
       "      <td>5.9</td>\n",
       "      <td>3.0</td>\n",
       "      <td>5.1</td>\n",
       "      <td>1.8</td>\n",
       "      <td>Iris-virginica</td>\n",
       "    </tr>\n",
       "  </tbody>\n",
       "</table>\n",
       "<p>150 rows × 5 columns</p>\n",
       "</div>"
      ],
      "text/plain": [
       "     sepal_length  sepal_width  petal_length  petal_width         species\n",
       "0             5.1          3.5           1.4          0.2     Iris-setosa\n",
       "1             4.9          3.0           1.4          0.2     Iris-setosa\n",
       "2             4.7          3.2           1.3          0.2     Iris-setosa\n",
       "3             4.6          3.1           1.5          0.2     Iris-setosa\n",
       "4             5.0          3.6           1.4          0.2     Iris-setosa\n",
       "..            ...          ...           ...          ...             ...\n",
       "145           6.7          3.0           5.2          2.3  Iris-virginica\n",
       "146           6.3          2.5           5.0          1.9  Iris-virginica\n",
       "147           6.5          3.0           5.2          2.0  Iris-virginica\n",
       "148           6.2          3.4           5.4          2.3  Iris-virginica\n",
       "149           5.9          3.0           5.1          1.8  Iris-virginica\n",
       "\n",
       "[150 rows x 5 columns]"
      ]
     },
     "execution_count": 98,
     "metadata": {},
     "output_type": "execute_result"
    }
   ],
   "source": [
    "import pandas as pd\n",
    "data = pd.read_csv('iris.csv')\n",
    "data"
   ]
  },
  {
   "cell_type": "code",
   "execution_count": 99,
   "id": "7e28e87a-f107-4671-bac5-3ecb16941505",
   "metadata": {},
   "outputs": [],
   "source": [
    "#find the target variable\n",
    "def get_target(d):\n",
    "    return d['target']['target']\n",
    "target = get_target(json_data)\n",
    "\n",
    "#split the dataset in train and test dataset.\n",
    "train_ratio = json_data['train']['train_ratio'] if json_data['train']['train_ratio'] != 0 else 0.7\n",
    "seed = json_data['train']['random_seed']\n",
    "\n",
    "train, test = train_test_split(data, train_size = train_ratio, random_state = seed)\n",
    "train = train.reset_index(drop=True)\n",
    "test = test.reset_index(drop=True)"
   ]
  },
  {
   "cell_type": "code",
   "execution_count": 100,
   "id": "e956a7cc-9355-4f90-be2f-f7cb73e782f1",
   "metadata": {},
   "outputs": [
    {
     "data": {
      "text/plain": [
       "((105, 5), (45, 5))"
      ]
     },
     "execution_count": 100,
     "metadata": {},
     "output_type": "execute_result"
    }
   ],
   "source": [
    "train.shape, test.shape"
   ]
  },
  {
   "cell_type": "code",
   "execution_count": 101,
   "id": "5da99461-8d00-4ab6-a1b2-8f01431e81cf",
   "metadata": {},
   "outputs": [
    {
     "name": "stdout",
     "output_type": "stream",
     "text": [
      "Feature handling performed successfully for sepal_length\n",
      "Feature handling performed successfully for sepal_width\n",
      "Feature handling performed successfully for petal_length\n",
      "Feature handling performed successfully for petal_width\n",
      "Feature handling performed successfully for species\n"
     ]
    }
   ],
   "source": [
    "for key, value in json_data['feature_handling'].items():\n",
    "    if value['is_selected']:\n",
    "        if value['feature_variable_type'] == 'numerical':\n",
    "            if value['feature_details']['missing_values'] == 'Impute':\n",
    "                if value['feature_details']['impute_with'] == 'custom':\n",
    "                    impute_value = value['feature_details']['impute_value']\n",
    "                    train[key] = train[key].fillna(impute_value)\n",
    "                else:\n",
    "                    imputer = SimpleImputer(strategy='mean')\n",
    "                    imputer.fit(train[[key]])\n",
    "                    train[key] = imputer.transform(train[[key]])\n",
    "                    test[key] = imputer.transform(test[[key]])\n",
    "        elif value['feature_variable_type'] == 'text':\n",
    "            n_features = len(train[key].unique())\n",
    "            vect = HashingVectorizer(n_features=n_features)\n",
    "            vect.fit(train[key])\n",
    "\n",
    "            hashed_train = vect.transform(train[key]).toarray()\n",
    "            hashed_test = vect.transform(test[key]).toarray()\n",
    "\n",
    "            XH_train = pd.DataFrame(hashed_train,columns=[f\"hashed_{i+1}\" for i in range(n_features)])\n",
    "            XH_test = pd.DataFrame(hashed_test,columns=[f\"hashed_{i+1}\" for i in range(n_features)])\n",
    "            \n",
    "            train = pd.concat([train, XH_train], axis=1)\n",
    "            test = pd.concat([test, XH_test], axis=1)\n",
    "\n",
    "            train.drop([key], axis=1, inplace=True)\n",
    "            test.drop([key], axis=1, inplace=True)\n",
    "        print(f\"Feature handling performed successfully for {key}\")\n",
    "    else:\n",
    "        print(f\"The feature {key} is not selected.\")"
   ]
  },
  {
   "cell_type": "code",
   "execution_count": 102,
   "id": "3d49e20d-33c5-4b88-9ceb-71458576cb31",
   "metadata": {},
   "outputs": [],
   "source": [
    "X_train, y_train = train.drop(['petal_width'], axis=1), train['petal_width']\n",
    "X_test, y_test = test.drop(['petal_width'], axis=1), test[['petal_width']]"
   ]
  },
  {
   "cell_type": "code",
   "execution_count": 103,
   "id": "739a0754-0dd7-4b97-a061-430cec341151",
   "metadata": {},
   "outputs": [],
   "source": [
    "#Find prediction type\n",
    "prediction_type = json_data['target']['prediction_type']\n",
    "\n",
    "for k, v in json_data['algorithms'].items():\n",
    "    if k in models[prediction_type] and v['is_selected']:\n",
    "        model_name = k\n",
    "        model_params = v"
   ]
  },
  {
   "cell_type": "code",
   "execution_count": 104,
   "id": "b22e135a-cb67-421b-a7c4-fbfdaa15bd51",
   "metadata": {},
   "outputs": [],
   "source": [
    "def get_required_model(prediction_type):\n",
    "    if prediction_type == 'Regression':\n",
    "        if model_name == 'LinearRegression':\n",
    "            final_model = get_Linear(model_params)\n",
    "\n",
    "        elif model_name == 'LogisticRegression':\n",
    "            final_model = get_Logistic(model_params)\n",
    "    \n",
    "        elif model_name == 'RandomForestRegressor':\n",
    "            final_model = get_RandomForestR(model_params)\n",
    "\n",
    "        elif model_name == 'RidgeRegression':\n",
    "            final_model = get_Rigde(model_params)\n",
    "\n",
    "        elif model_name == 'LassoRegression':\n",
    "            final_model = get_Lasso(model_params)\n",
    "\n",
    "        elif model_name == 'ElasticNetRegression':\n",
    "            final_model = get_Elastic(model_params)\n",
    "\n",
    "        elif model_name == 'DecisionTreeRegressor':\n",
    "            final_model = get_DecisionR(model_params)\n",
    "        elif model_name == 'KNN':\n",
    "            final_model = get_KNN_R(model_params)\n",
    "\n",
    "        elif model_name == 'SVM':\n",
    "            final_model = get_SVR(model_params)\n",
    "\n",
    "        elif model_name == 'SGD':\n",
    "            final_model = get_SGD_R(model_params)\n",
    "\n",
    "        y_predicted = final_model.predict(X_test)\n",
    "        print(f\"Mean squared error for {model_name} model on test set is: \", mean_squared_error(y_test,y_predicted))\n",
    "    else:\n",
    "        if model_name == 'RandomForestClassifier':\n",
    "            final_model = get_RandomForestC(model_params)\n",
    "        elif model_name == 'DecisionTreeClassifier':\n",
    "            final_model = get_DecisionC(model_params)\n",
    "        elif model_name == 'KNN':\n",
    "            final_model = get_KNN_C(model_params)\n",
    "        y_predicted = final_model.predict(X_test)\n",
    "        \n",
    "        acc = accuracy_score(y_test, y_predicted)\n",
    "        print(f\"Accuracy measure for {model_name} model : \", acc)"
   ]
  },
  {
   "cell_type": "markdown",
   "id": "0997dc98-fd6f-466c-93fd-2c1529a60d28",
   "metadata": {
    "jp-MarkdownHeadingCollapsed": true
   },
   "source": [
    "### Regression Models"
   ]
  },
  {
   "cell_type": "code",
   "execution_count": 105,
   "id": "f4d0ac29-7554-4c28-8089-ab9f5bbe60c9",
   "metadata": {},
   "outputs": [],
   "source": [
    "def get_Linear(model_params):\n",
    "    M1 = LinearRegression(n_jobs=model_params['parallelism'])\n",
    "    M1.fit(X_train, y_train)\n",
    "    final_model = M1\n",
    "    return final_model"
   ]
  },
  {
   "cell_type": "code",
   "execution_count": 106,
   "id": "acf6d16f-80f9-4458-9f2f-99f9d709ba67",
   "metadata": {},
   "outputs": [],
   "source": [
    "def get_Logistic(model_params):\n",
    "    M3 = LogisticRegression()\n",
    "    param_grid = {\n",
    "        'max_iter' : list(range(model_params['min_iter'], model_params['max_iter']+1)),\n",
    "        'C' : [1, 1.5, 2]\n",
    "    }\n",
    "    gridModel = GridSearchCV(estimator = M3,\n",
    "                            param_grid=param_grid,\n",
    "                            n_jobs=model_params['parallelism'])\n",
    "    gridModel.fit(X_train, y_train)\n",
    "    final_model = gridModel.best_estimator_\n",
    "    return final_model"
   ]
  },
  {
   "cell_type": "code",
   "execution_count": 107,
   "id": "3fd79a98-70de-4bdb-b837-5548ab743507",
   "metadata": {},
   "outputs": [],
   "source": [
    "def get_RandomForestR(model_params):\n",
    "    M2  = RandomForestRegressor()\n",
    "    param_grid = {\n",
    "        'n_estimators': list(range(model_params['min_trees'], model_params['max_trees']+1)),\n",
    "        'max_depth' : list(range(model_params['min_depth'], model_params['max_depth']+1)),\n",
    "        'min_samples_leaf' : list(range(model_params['min_samples_per_leaf_min_value'], model_params['min_samples_per_leaf_max_value']+1))\n",
    "    }\n",
    "    gridModel = GridSearchCV(estimator = M2, \n",
    "                             param_grid = param_grid,\n",
    "                             cv = KFold(n_splits = json_data['hyperparameters']['num_of_folds']),\n",
    "                             n_jobs = json_data['hyperparameters']['parallelism'])\n",
    "    gridModel.fit(X_train,y_train)\n",
    "    final_model = gridModel.best_estimator_\n",
    "    return final_model"
   ]
  },
  {
   "cell_type": "code",
   "execution_count": 108,
   "id": "e4eac6e9-011f-4a4f-9b44-dfd12a8c1069",
   "metadata": {},
   "outputs": [],
   "source": [
    "def get_Rigde(model_params):\n",
    "    M4 = Ridge()\n",
    "    param_grid = {\n",
    "        'max_iter' : list(range(model_params['min_iter'], model_params['max_iter']+1)),\n",
    "        'alpha' : list(np.linspace(model_params['min_regparam'], model_params['max_regparam'], 5))\n",
    "    }\n",
    "    gridModel = GridSearchCV(estimator = M4,\n",
    "                            param_grid=param_grid,\n",
    "                            cv = KFold(n_splits = json_data['hyperparameters']['num_of_folds']),\n",
    "                            n_jobs=model_params['parallelism'])\n",
    "    gridModel.fit(X_train, y_train)\n",
    "    final_model = gridModel.best_estimator_\n",
    "    return final_model"
   ]
  },
  {
   "cell_type": "code",
   "execution_count": 109,
   "id": "e5585dfb-4052-4b44-92f8-fcd9aa1c0193",
   "metadata": {},
   "outputs": [],
   "source": [
    "def get_Lasso(model_params):\n",
    "    M5 = Lasso()\n",
    "    param_grid = {\n",
    "        'max_iter' : list(range(model_params['min_iter'], model_params['max_iter']+1)),\n",
    "        'alpha' : list(np.linspace(model_params['min_regparam'], model_params['max_regparam'], 5))\n",
    "    }\n",
    "    gridModel = GridSearchCV(estimator = M5,\n",
    "                            param_grid=param_grid,\n",
    "                            cv = KFold(n_splits = json_data['hyperparameters']['num_of_folds']),\n",
    "                            n_jobs=model_params['parallelism'])\n",
    "    gridModel.fit(X_train, y_train)\n",
    "    final_model = gridModel.best_estimator_\n",
    "    return final_model\n"
   ]
  },
  {
   "cell_type": "code",
   "execution_count": 110,
   "id": "4dd9b692-8134-4eff-a50d-503a949d3c0c",
   "metadata": {},
   "outputs": [],
   "source": [
    "def get_Elastic(model_params):\n",
    "    M6 = ElasticNet()\n",
    "    param_grid = {\n",
    "        'max_iter' : list(range(model_params['min_iter'], model_params['max_iter']+1)),\n",
    "        'alpha' : list(np.linspace(model_params['min_regparam'], model_params['max_regparam'], 5)),\n",
    "        'l1_ratio' : list(np.linspace(model_params['min_elasticnet'], model_params['max_elasticnet'], 5))\n",
    "    }\n",
    "    gridModel = GridSearchCV(estimator = M6,\n",
    "                            param_grid=param_grid,\n",
    "                            cv = KFold(n_splits = json_data['hyperparameters']['num_of_folds']),\n",
    "                            n_jobs=model_params['parallelism'])\n",
    "    gridModel.fit(X_train, y_train)\n",
    "    final_model = gridModel.best_estimator_\n",
    "    return final_model"
   ]
  },
  {
   "cell_type": "code",
   "execution_count": 111,
   "id": "25471d9f-5954-479a-a613-bf7a5b0c4d72",
   "metadata": {},
   "outputs": [],
   "source": [
    "def get_KNN_R(model_params):\n",
    "    M = KNeighborsRegressor()\n",
    "    param_grid = {\n",
    "        'n_neighbors' : model_params['k_value'],\n",
    "        'algorithm' : [\"auto\" if model_params['neighbour_finding_algorithm']== \"Automatic\" else \"ball_tree\"],\n",
    "        'weights' : [\"distance\" if model_params['distance_weighting'] else \"uniform\"]\n",
    "    }\n",
    "    gridModel = GridSearchCV(estimator = M,\n",
    "                            param_grid=param_grid,\n",
    "                            cv = KFold(n_splits = json_data['hyperparameters']['num_of_folds'])\n",
    "                            )\n",
    "    gridModel.fit(X_train, y_train)\n",
    "    final_model = gridModel.best_estimator_\n",
    "    return final_model"
   ]
  },
  {
   "cell_type": "code",
   "execution_count": 112,
   "id": "18bff928-47b1-46af-8300-b7f35438d223",
   "metadata": {},
   "outputs": [],
   "source": [
    "def get_DecisionR(model_params):\n",
    "    M7 = DecisionTreeRegressor()\n",
    "    param_grid = {\n",
    "        'max_depth' : list(range(model_params['min_depth'], model_params['max_depth']+1)),\n",
    "        'splitter' : [\"best\" if model_params['use_best'] else \"random\"],\n",
    "        'min_sample_leaf' : model_params['min_samples_per_leaf']\n",
    "    }\n",
    "    gridModel = GridSearchCV(estimator = M7,\n",
    "                            param_grid=param_grid,\n",
    "                            cv = KFold(n_splits = json_data['hyperparameters']['num_of_folds'])\n",
    "                            )\n",
    "    gridModel.fit(X_train, y_train)\n",
    "    final_model = gridModel.best_estimator_\n",
    "    return final_model"
   ]
  },
  {
   "cell_type": "code",
   "execution_count": 113,
   "id": "c05359c3-d7cd-4fc4-a78d-f7625187448a",
   "metadata": {},
   "outputs": [],
   "source": [
    "def get_SVR(model_params):\n",
    "    M = SVR()\n",
    "    kernel_dict = {\"linear_kernel\" : \"linear\",\n",
    "                  \"reb_kernel\" : \"rbf\",\n",
    "                  \"polynomail_kernel\" : \"poly\",\n",
    "                  \"sigmoid_kernel\" : \"sigmoid\"}\n",
    "    param_grid = {\n",
    "        'kernel' : [v for k,v in kernel_dict.items() if model_params[k]],\n",
    "        'gamma' : [0.5,0.1,1.0] if model_params['custom_gamma_values'] else ['auto', 'scale'],\n",
    "        'tol' : [model_params['tolerance']],\n",
    "        'max_iter' : [model_params['max_iterations']]\n",
    "    }\n",
    "    gridModel = GridSearchCV(estimator = M,\n",
    "                            param_grid=param_grid,\n",
    "                            cv = KFold(n_splits = json_data['hyperparameters']['num_of_folds']),\n",
    "                            )\n",
    "    gridModel.fit(X_train, y_train)\n",
    "    final_model = gridModel.best_estimator_\n",
    "    return final_model"
   ]
  },
  {
   "cell_type": "code",
   "execution_count": 114,
   "id": "f0433e35-3a3e-4c52-8f95-85395328e226",
   "metadata": {},
   "outputs": [],
   "source": [
    "def get_SGD_R(model_params):\n",
    "    M = SGDRegressor()\n",
    "    param_grid = {\n",
    "        'tol' : model_params['tolerance'],\n",
    "        'penalty' : ['l1', 'l2', 'elasticnet'],\n",
    "        'alpha' : model_params['alpha_values']\n",
    "    }\n",
    "    gridModel = GridSearchCV(estimator = M,\n",
    "                            param_grid=param_grid,\n",
    "                            cv = KFold(n_splits = json_data['hyperparameters']['num_of_folds']),\n",
    "                            n_jobs= model_params['parallelism']\n",
    "                            )\n",
    "    gridModel.fit(X_train, y_train)\n",
    "    final_model = gridModel.best_estimator_\n",
    "    return final_model"
   ]
  },
  {
   "cell_type": "markdown",
   "id": "df700d10-9a01-4e55-a5e7-d9e11caac229",
   "metadata": {
    "jp-MarkdownHeadingCollapsed": true
   },
   "source": [
    "### Classification Models"
   ]
  },
  {
   "cell_type": "code",
   "execution_count": 115,
   "id": "c9f61d62-6260-4fe8-bc9e-3bd73f2b5c84",
   "metadata": {},
   "outputs": [],
   "source": [
    "def get_RandomForestC(model_params):\n",
    "    M = RandomForestClassifier()\n",
    "    param_grid = {\n",
    "        'n_estimators': list(range(model_params['min_trees'], model_params['max_trees']+1)),\n",
    "        'max_depth' : list(range(model_params['min_depth'], model_params['max_depth']+1)),\n",
    "        'min_samples_leaf' : list(range(model_params['min_samples_per_leaf_min_value'], model_params['min_samples_per_leaf_max_value']+1))\n",
    "    }\n",
    "    gridModel = GridSearchCV(estimator = M, \n",
    "                             param_grid = param_grid,\n",
    "                             cv = KFold(n_splits = json_data['hyperparameters']['num_of_folds']),\n",
    "                             n_jobs = json_data['hyperparameters']['parallelism'])\n",
    "    gridModel.fit(X_train,y_train)\n",
    "    final_model = gridModel.best_estimator_\n",
    "    return final_model"
   ]
  },
  {
   "cell_type": "code",
   "execution_count": 116,
   "id": "56ee347d-9214-4d43-8ea7-7dedee22aad3",
   "metadata": {},
   "outputs": [],
   "source": [
    "def get_DecisionC(model_params):\n",
    "    M = DecisionTreeClassifier()\n",
    "    param_grid = {\n",
    "        'max_depth' : list(range(model_params['min_depth'], model_params['max_depth']+1)),\n",
    "        'splitter' : [\"best\" if model_params['use_best'] else \"random\"],\n",
    "        'min_sample_leaf' : model_params['min_samples_per_leaf'],\n",
    "        'criterion' : [\"gini\" if model_params['use_gini'] else \"entropy\"]\n",
    "    }\n",
    "    gridModel = GridSearchCV(estimator = M7,\n",
    "                            param_grid=param_grid,\n",
    "                            cv = KFold(n_splits = json_data['hyperparameters']['num_of_folds'])\n",
    "                            )\n",
    "    gridModel.fit(X_train, y_train)\n",
    "    final_model = gridModel.best_estimator_\n",
    "    return final_model"
   ]
  },
  {
   "cell_type": "code",
   "execution_count": 117,
   "id": "bf1d256c-93a4-4737-a950-f25167d0deda",
   "metadata": {},
   "outputs": [],
   "source": [
    "def get_KNN_C(model_params):\n",
    "    M = KNeighborsClassifier()\n",
    "    param_grid = {\n",
    "        'n_neighbors' : model_params['k_value'],\n",
    "        'algorithm' : [\"auto\" if model_params['neighbour_finding_algorithm']== \"Automatic\" else \"ball_tree\"],\n",
    "        'weights' : [\"distance\" if model_params['distance_weighting'] else \"uniform\"]\n",
    "    }\n",
    "    gridModel = GridSearchCV(estimator = M,\n",
    "                            param_grid=param_grid,\n",
    "                            cv = KFold(n_splits = json_data['hyperparameters']['num_of_folds'])\n",
    "                            )\n",
    "    gridModel.fit(X_train, y_train)\n",
    "    final_model = gridModel.best_estimator_\n",
    "    return final_model"
   ]
  },
  {
   "cell_type": "markdown",
   "id": "690b4be7-2a2c-47aa-a1fe-f9bc25cbb70c",
   "metadata": {},
   "source": [
    "### Evaluation"
   ]
  },
  {
   "cell_type": "code",
   "execution_count": 118,
   "id": "1ef73e5b-5067-4d10-9eba-d657e5d45f7a",
   "metadata": {},
   "outputs": [
    {
     "name": "stdout",
     "output_type": "stream",
     "text": [
      "Mean squared error for RandomForestRegressor model on test set is:  0.043670732578331546\n"
     ]
    }
   ],
   "source": [
    "get_required_model(prediction_type)"
   ]
  },
  {
   "cell_type": "code",
   "execution_count": null,
   "id": "74f10e79-d312-4210-84c0-f159feb17a78",
   "metadata": {},
   "outputs": [],
   "source": []
  }
 ],
 "metadata": {
  "kernelspec": {
   "display_name": "Python 3 (ipykernel)",
   "language": "python",
   "name": "python3"
  },
  "language_info": {
   "codemirror_mode": {
    "name": "ipython",
    "version": 3
   },
   "file_extension": ".py",
   "mimetype": "text/x-python",
   "name": "python",
   "nbconvert_exporter": "python",
   "pygments_lexer": "ipython3",
   "version": "3.11.4"
  }
 },
 "nbformat": 4,
 "nbformat_minor": 5
}
